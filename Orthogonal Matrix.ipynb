{
 "cells": [
  {
   "cell_type": "markdown",
   "id": "052c89d1",
   "metadata": {},
   "source": [
    "# Prog Asgmt. Matrix of orthogonal projection"
   ]
  },
  {
   "cell_type": "markdown",
   "id": "e1e241c2",
   "metadata": {},
   "source": [
    "## Sabahat Yaqoob\n",
    "## LMS ID: 362840"
   ]
  },
  {
   "cell_type": "code",
   "execution_count": 3,
   "id": "86332c45",
   "metadata": {},
   "outputs": [],
   "source": [
    "import numpy as np \n"
   ]
  },
  {
   "cell_type": "code",
   "execution_count": 18,
   "id": "57baac0e",
   "metadata": {},
   "outputs": [],
   "source": [
    "basis = np.random.rand(4,2) "
   ]
  },
  {
   "cell_type": "code",
   "execution_count": 19,
   "id": "150d0e11",
   "metadata": {},
   "outputs": [],
   "source": [
    "result = np.matmul(np.matmul(basis,np.linalg.inv(np.matmul(basis.T,basis))),basis.T)"
   ]
  },
  {
   "cell_type": "code",
   "execution_count": 20,
   "id": "f5c76b7d",
   "metadata": {},
   "outputs": [
    {
     "name": "stdout",
     "output_type": "stream",
     "text": [
      "Basis = [[0.2609984  0.92139154]\n",
      " [0.8976096  0.16428976]\n",
      " [0.44415697 0.78946164]\n",
      " [0.08679187 0.60757678]]\n",
      "Orthogonal projection matrix = [[ 0.47686069 -0.06292946  0.37024263  0.32927929]\n",
      " [-0.06292946  0.93664439  0.19169191 -0.13651289]\n",
      " [ 0.37024263  0.19169191  0.34979426  0.23154447]\n",
      " [ 0.32927929 -0.13651289  0.23154447  0.23670066]]\n"
     ]
    }
   ],
   "source": [
    "print(f\"Basis = {basis}\")\n",
    "print(f\"Orthogonal projection matrix = {result}\")\n"
   ]
  },
  {
   "cell_type": "code",
   "execution_count": null,
   "id": "59909069",
   "metadata": {},
   "outputs": [],
   "source": []
  }
 ],
 "metadata": {
  "kernelspec": {
   "display_name": "Python 3",
   "language": "python",
   "name": "python3"
  },
  "language_info": {
   "codemirror_mode": {
    "name": "ipython",
    "version": 3
   },
   "file_extension": ".py",
   "mimetype": "text/x-python",
   "name": "python",
   "nbconvert_exporter": "python",
   "pygments_lexer": "ipython3",
   "version": "3.8.8"
  }
 },
 "nbformat": 4,
 "nbformat_minor": 5
}
